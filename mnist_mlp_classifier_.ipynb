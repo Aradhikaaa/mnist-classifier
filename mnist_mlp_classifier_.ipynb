{
  "cells": [
    {
      "cell_type": "markdown",
      "source": [
        "# MNIST Digit Classification using TensorFlow"
      ],
      "metadata": {
        "id": "rC8y4IhJwYmv"
      },
      "id": "rC8y4IhJwYmv"
    },
    {
      "cell_type": "markdown",
      "source": [
        "###1. Import Libraries"
      ],
      "metadata": {
        "id": "RW4Kh2cCwlar"
      },
      "id": "RW4Kh2cCwlar"
    },
    {
      "cell_type": "code",
      "execution_count": 1,
      "id": "bcce3840-88d8-4e5d-ac04-2fee7b035121",
      "metadata": {
        "id": "bcce3840-88d8-4e5d-ac04-2fee7b035121"
      },
      "outputs": [],
      "source": [
        "import tensorflow as tf #pip install tensorflow\n",
        "import numpy as np\n",
        "import matplotlib.pyplot as plt\n",
        "from tensorflow.keras.models import Sequential\n",
        "from tensorflow.keras.layers import Dense,Activation,Flatten"
      ]
    },
    {
      "cell_type": "markdown",
      "source": [
        "### 2. Load and Explore the MNIST Dataset"
      ],
      "metadata": {
        "id": "BK9Q8yDyw2EL"
      },
      "id": "BK9Q8yDyw2EL"
    },
    {
      "cell_type": "code",
      "execution_count": 2,
      "id": "c48c4ce1-e5eb-495e-9c2b-32fdc2a13049",
      "metadata": {
        "id": "c48c4ce1-e5eb-495e-9c2b-32fdc2a13049"
      },
      "outputs": [],
      "source": [
        "mnist=tf.keras.datasets.mnist # This is basically handwritten characters based on 28x28 sized images of 0 to 9"
      ]
    },
    {
      "cell_type": "code",
      "execution_count": 4,
      "id": "fd9a79e3-4913-48a4-b291-3b4aa256781b",
      "metadata": {
        "colab": {
          "base_uri": "https://localhost:8080/"
        },
        "id": "fd9a79e3-4913-48a4-b291-3b4aa256781b",
        "outputId": "fa755f87-8295-429a-c995-79110fc17186"
      },
      "outputs": [
        {
          "output_type": "stream",
          "name": "stdout",
          "text": [
            "Downloading data from https://storage.googleapis.com/tensorflow/tf-keras-datasets/mnist.npz\n",
            "\u001b[1m11490434/11490434\u001b[0m \u001b[32m━━━━━━━━━━━━━━━━━━━━\u001b[0m\u001b[37m\u001b[0m \u001b[1m0s\u001b[0m 0us/step\n"
          ]
        }
      ],
      "source": [
        "(x_train,y_train),(x_test,y_test)=mnist.load_data() # Split dataset into training and testing sets"
      ]
    },
    {
      "cell_type": "code",
      "execution_count": 5,
      "id": "cd491ded-54e1-4201-b221-9cce8259eb91",
      "metadata": {
        "scrolled": true,
        "colab": {
          "base_uri": "https://localhost:8080/"
        },
        "id": "cd491ded-54e1-4201-b221-9cce8259eb91",
        "outputId": "c67545e5-7063-4038-dceb-a3d731800012"
      },
      "outputs": [
        {
          "output_type": "stream",
          "name": "stdout",
          "text": [
            "(60000, 28, 28)\n",
            "(10000, 28, 28)\n",
            "(60000,)\n",
            "(10000,)\n"
          ]
        }
      ],
      "source": [
        "print(x_train.shape)\n",
        "print(x_test.shape)\n",
        "print(y_train.shape)\n",
        "print(y_test.shape)"
      ]
    },
    {
      "cell_type": "markdown",
      "source": [
        "\n",
        "*   Training Data: 60,000 samples\n",
        "*   Testing Data: 10,000 samples\n",
        "*   Image Size: 28x28 pixels\n",
        "\n",
        "\n",
        "\n",
        "\n"
      ],
      "metadata": {
        "id": "oxgkyOmqxNUb"
      },
      "id": "oxgkyOmqxNUb"
    },
    {
      "cell_type": "markdown",
      "source": [
        "### 3. Visualize a Sample Image"
      ],
      "metadata": {
        "id": "nhwlQ-ySx1Ak"
      },
      "id": "nhwlQ-ySx1Ak"
    },
    {
      "cell_type": "code",
      "execution_count": 6,
      "id": "84abfa43-02af-4962-9a65-b71170aa8944",
      "metadata": {
        "colab": {
          "base_uri": "https://localhost:8080/",
          "height": 470
        },
        "id": "84abfa43-02af-4962-9a65-b71170aa8944",
        "outputId": "c7f883e7-8ad4-45e3-a15e-19e59533787a"
      },
      "outputs": [
        {
          "output_type": "stream",
          "name": "stdout",
          "text": [
            "44422\n"
          ]
        },
        {
          "output_type": "display_data",
          "data": {
            "text/plain": [
              "<Figure size 640x480 with 1 Axes>"
            ],
            "image/png": "[encoded data removed]"
          },
          "metadata": {}
        }
      ],
      "source": [
        "random_nr = np.random.randint(0, 60000)\n",
        "print(random_nr)\n",
        "plt.imshow(x_train[random_nr]);\n",
        "plt.title(f\"Label:{y_train[random_nr]}\")\n",
        "plt.show()\n"
      ]
    },
    {
      "cell_type": "code",
      "execution_count": 7,
      "id": "00d052ec-00e3-42b3-a987-d8239f8dc594",
      "metadata": {
        "colab": {
          "base_uri": "https://localhost:8080/"
        },
        "id": "00d052ec-00e3-42b3-a987-d8239f8dc594",
        "outputId": "2a53b352-9117-4185-bfa1-e509cfe5a2f9"
      },
      "outputs": [
        {
          "output_type": "stream",
          "name": "stdout",
          "text": [
            "[[  0   0   0   0   0   0   0   0   0   0   0   0   0   0   0   0   0   0\n",
            "    0   0   0   0   0   0   0   0   0   0]\n",
            " [  0   0   0   0   0   0   0   0   0   0   0   0   0   0   0   0   0   0\n",
            "    0   0   0   0   0   0   0   0   0   0]\n",
            " [  0   0   0   0   0   0   0   0   0   0   0   0   0   0   0   0   0   0\n",
            "    0   0   0   0   0   0   0   0   0   0]\n",
            " [  0   0   0   0   0   0   0   0   0   0   0   0   0   0   0   0   0   0\n",
            "    0   0   0   0   0   0   0   0   0   0]\n",
            " [  0   0   0   0   0   0   0   0   0   0   0   0   0   0   0   0   0   0\n",
            "    0   0   0   0   0   0   0   0   0   0]\n",
            " [  0   0   0   0   0   0   0   0   0   0   0   0   0   0   0   0   0 172\n",
            "  235  72   0   0   0   0   0   0   0   0]\n",
            " [  0   0   0   0   0   0   0   0   0   0   0   0   0   0   0   0   2 227\n",
            "  250 225  11   0   0   0   0   0   0   0]\n",
            " [  0   0   0   0   0   0   0   0   0   0   0   0   0   0   0   0  87 254\n",
            "  109   0   0   0   0   0   0   0   0   0]\n",
            " [  0   0   0   0   0   0   0   0   0   0   0   0   0   0   0   0 171 254\n",
            "  103   0   0   0   0   0   0   0   0   0]\n",
            " [  0   0   0   0   0   0   0   0   0   0   0   3  18   0   0   0 222 250\n",
            "   23   0   0   0   0   0   0   0   0   0]\n",
            " [  0   0   0   0   0   0   0   0   0   0   0 160 233  20   0  22 236 196\n",
            "    0   0   0   0   0   0   0   0   0   0]\n",
            " [  0   0   0   0   0   0   0   0   0   0   0 201 254  46   0  60 254 159\n",
            "    0   0   0   0   0   0   0   0   0   0]\n",
            " [  0   0   0   0   0   0   0   0   0   0  35 243 225  10   0 172 255  47\n",
            "    0   0   0   0   0   0   0   0   0   0]\n",
            " [  0   0   0   0   0   0   0   0   0   0 180 254 164   0   0 218 254  29\n",
            "    0   0   0   0   0   0   0   0   0   0]\n",
            " [  0   0   0   0   0   0   0   0   0  35 244 249  42   0  23 236 237  20\n",
            "    0   0   0   0   0   0   0   0   0   0]\n",
            " [  0   0   0   0   0   0   0   0   0 151 254 238 130 198 221 254 254 218\n",
            "  213 213  14   0   0   0   0   0   0   0]\n",
            " [  0   0   0   0   0   0   0   0  52 246 254 254 254 254 254 254 211 130\n",
            "  121  72   3   0   0   0   0   0   0   0]\n",
            " [  0   0   0   0   0   0   0   0 188 254 254 211 132 139 254 227  15   0\n",
            "    0   0   0   0   0   0   0   0   0   0]\n",
            " [  0   0   0   0   0   0   0  10 225 249 122   7   0  42 254 157   0   0\n",
            "    0   0   0   0   0   0   0   0   0   0]\n",
            " [  0   0   0   0   0   0   0   2 148 118   0   0   0 118 254  45   0   0\n",
            "    0   0   0   0   0   0   0   0   0   0]\n",
            " [  0   0   0   0   0   0   0   0   0   0   0   0   0 203 227  16   0   0\n",
            "    0   0   0   0   0   0   0   0   0   0]\n",
            " [  0   0   0   0   0   0   0   0   0   0   0   0   0 209 157   0   0   0\n",
            "    0   0   0   0   0   0   0   0   0   0]\n",
            " [  0   0   0   0   0   0   0   0   0   0   0   0  37 252  45   0   0   0\n",
            "    0   0   0   0   0   0   0   0   0   0]\n",
            " [  0   0   0   0   0   0   0   0   0   0   0   0  92 241  29   0   0   0\n",
            "    0   0   0   0   0   0   0   0   0   0]\n",
            " [  0   0   0   0   0   0   0   0   0   0   0   0 122 213   0   0   0   0\n",
            "    0   0   0   0   0   0   0   0   0   0]\n",
            " [  0   0   0   0   0   0   0   0   0   0   0   0   0   0   0   0   0   0\n",
            "    0   0   0   0   0   0   0   0   0   0]\n",
            " [  0   0   0   0   0   0   0   0   0   0   0   0   0   0   0   0   0   0\n",
            "    0   0   0   0   0   0   0   0   0   0]\n",
            " [  0   0   0   0   0   0   0   0   0   0   0   0   0   0   0   0   0   0\n",
            "    0   0   0   0   0   0   0   0   0   0]]\n",
            "4\n"
          ]
        }
      ],
      "source": [
        "# Checking the values of each pixel\n",
        "print(x_train[58661]) # before normalization\n",
        "print(y_train[58661])"
      ]
    },
    {
      "cell_type": "markdown",
      "source": [
        "### 4. Normalize and Reshape the Data\n",
        "As images are in Gray level (1 channel ==> 0 to 255), not coloured (RGB)\n",
        "Normalising the data | pre-processing step"
      ],
      "metadata": {
        "id": "I7tjyZHgzAop"
      },
      "id": "I7tjyZHgzAop"
    },
    {
      "cell_type": "code",
      "execution_count": 8,
      "id": "d91d660a-f483-4456-9fec-21af32f8318f",
      "metadata": {
        "colab": {
          "base_uri": "https://localhost:8080/",
          "height": 448
        },
        "id": "d91d660a-f483-4456-9fec-21af32f8318f",
        "outputId": "38ec269e-9c33-400b-bb79-aed210f5cd14"
      },
      "outputs": [
        {
          "output_type": "execute_result",
          "data": {
            "text/plain": [
              "<matplotlib.image.AxesImage at 0x7a7654e19f00>"
            ]
          },
          "metadata": {},
          "execution_count": 8
        },
        {
          "output_type": "display_data",
          "data": {
            "text/plain": [
              "<Figure size 640x480 with 1 Axes>"
            ],
            "image/png": "[encoded data removed]"
          },
          "metadata": {}
        }
      ],
      "source": [
        "x_train = tf.keras.utils.normalize(x_train, axis =1)\n",
        "x_test = tf.keras.utils.normalize(x_test, axis =1)\n",
        "plt.imshow(x_train[58661], cmap=plt.cm.binary)"
      ]
    },
    {
      "cell_type": "code",
      "execution_count": 9,
      "id": "f697b75e-6e71-44c6-a353-78b68d358a92",
      "metadata": {
        "colab": {
          "base_uri": "https://localhost:8080/"
        },
        "id": "f697b75e-6e71-44c6-a353-78b68d358a92",
        "outputId": "95ab821d-05da-4521-ca63-c69641398b2d"
      },
      "outputs": [
        {
          "output_type": "stream",
          "name": "stdout",
          "text": [
            "Training sample dimension after reshaping :  (60000, 28, 28, 1)\n",
            "Testing sample dimension after reshaping :  (10000, 28, 28, 1)\n",
            "Target for training sample dimension after reshaping :  (60000, 1)\n",
            "Target for testing sample dimension after reshaping :  (10000, 1)\n"
          ]
        }
      ],
      "source": [
        "IMG_SIZE=28\n",
        "x_trainr = np.array(x_train).reshape(-1,IMG_SIZE,IMG_SIZE,1) # increasing one dimension\n",
        "x_testr = np.array(x_test).reshape(-1,IMG_SIZE,IMG_SIZE,1)# increasing one dimension\n",
        "y_trainr = np.array(y_train).reshape(-1,1)\n",
        "y_testr = np.array(y_test).reshape(-1,1)\n",
        "print(\"Training sample dimension after reshaping : \", x_trainr.shape)\n",
        "print(\"Testing sample dimension after reshaping : \", x_testr.shape)\n",
        "print(\"Target for training sample dimension after reshaping : \", y_trainr.shape)\n",
        "print(\"Target for testing sample dimension after reshaping : \", y_testr.shape)"
      ]
    },
    {
      "cell_type": "markdown",
      "source": [
        "###5. Build and Compile the Neural Network"
      ],
      "metadata": {
        "id": "DR6X9YWzzYkP"
      },
      "id": "DR6X9YWzzYkP"
    },
    {
      "cell_type": "code",
      "execution_count": 10,
      "id": "672a18d0-dc8a-444c-91c7-a7707742b64e",
      "metadata": {
        "colab": {
          "base_uri": "https://localhost:8080/"
        },
        "id": "672a18d0-dc8a-444c-91c7-a7707742b64e",
        "outputId": "caf3d6b8-c25a-4d23-b2d9-eb0871d63f83"
      },
      "outputs": [
        {
          "output_type": "stream",
          "name": "stdout",
          "text": [
            "(28, 28, 1)\n"
          ]
        }
      ],
      "source": [
        "# Creating a Deep Neural Network\n",
        "# Training on 60,000 samples of MNIST handwritten dataset\n",
        "print(x_trainr.shape[1:])"
      ]
    },
    {
      "cell_type": "code",
      "execution_count": 11,
      "id": "ca051341-c661-405f-90c4-d89cdb77afa8",
      "metadata": {
        "colab": {
          "base_uri": "https://localhost:8080/"
        },
        "id": "ca051341-c661-405f-90c4-d89cdb77afa8",
        "outputId": "91f39739-ba9d-4aae-c16f-c10287d03339"
      },
      "outputs": [
        {
          "output_type": "stream",
          "name": "stderr",
          "text": [
            "/usr/local/lib/python3.10/dist-packages/keras/src/layers/core/dense.py:87: UserWarning: Do not pass an `input_shape`/`input_dim` argument to a layer. When using Sequential models, prefer using an `Input(shape)` object as the first layer in the model instead.\n",
            "  super().__init__(activity_regularizer=activity_regularizer, **kwargs)\n"
          ]
        }
      ],
      "source": [
        "# Creating a neural network now\n",
        "model=Sequential()\n",
        "model.add(Dense(14,input_shape=(28,28,1),activation='relu')) #28x28 image\n",
        "model.add(Dense(20,activation='relu'))\n",
        "model.add(Flatten())\n",
        "model.add(Dense(10,activation='softmax'))\n",
        "model.compile(loss='sparse_categorical_crossentropy',optimizer='adam',metrics=['accuracy'])"
      ]
    },
    {
      "cell_type": "code",
      "execution_count": 12,
      "id": "8b8bdefb-43a7-46ce-9f0f-f966e3a704b9",
      "metadata": {
        "colab": {
          "base_uri": "https://localhost:8080/",
          "height": 265
        },
        "id": "8b8bdefb-43a7-46ce-9f0f-f966e3a704b9",
        "outputId": "3dbfa469-e96a-48fd-8370-3bcb1f2171af"
      },
      "outputs": [
        {
          "output_type": "display_data",
          "data": {
            "text/plain": [
              "\u001b[1mModel: \"sequential\"\u001b[0m\n"
            ],
            "text/html": [
              "<pre style=\"white-space:pre;overflow-x:auto;line-height:normal;font-family:Menlo,'DejaVu Sans Mono',consolas,'Courier New',monospace\"><span style=\"font-weight: bold\">Model: \"sequential\"</span>\n",
              "</pre>\n"
            ]
          },
          "metadata": {}
        },
        {
          "output_type": "display_data",
          "data": {
            "text/plain": [
              "┏━━━━━━━━━━━━━━━━━━━━━━━━━━━━━━━━━━━━━━┳━━━━━━━━━━━━━━━━━━━━━━━━━━━━━┳━━━━━━━━━━━━━━━━━┓\n",
              "┃\u001b[1m \u001b[0m\u001b[1mLayer (type)                        \u001b[0m\u001b[1m \u001b[0m┃\u001b[1m \u001b[0m\u001b[1mOutput Shape               \u001b[0m\u001b[1m \u001b[0m┃\u001b[1m \u001b[0m\u001b[1m        Param #\u001b[0m\u001b[1m \u001b[0m┃\n",
              "┡━━━━━━━━━━━━━━━━━━━━━━━━━━━━━━━━━━━━━━╇━━━━━━━━━━━━━━━━━━━━━━━━━━━━━╇━━━━━━━━━━━━━━━━━┩\n",
              "│ dense (\u001b[38;5;33mDense\u001b[0m)                        │ (\u001b[38;5;45mNone\u001b[0m, \u001b[38;5;34m28\u001b[0m, \u001b[38;5;34m28\u001b[0m, \u001b[38;5;34m14\u001b[0m)          │              \u001b[38;5;34m28\u001b[0m │\n",
              "├──────────────────────────────────────┼─────────────────────────────┼─────────────────┤\n",
              "│ dense_1 (\u001b[38;5;33mDense\u001b[0m)                      │ (\u001b[38;5;45mNone\u001b[0m, \u001b[38;5;34m28\u001b[0m, \u001b[38;5;34m28\u001b[0m, \u001b[38;5;34m20\u001b[0m)          │             \u001b[38;5;34m300\u001b[0m │\n",
              "├──────────────────────────────────────┼─────────────────────────────┼─────────────────┤\n",
              "│ flatten (\u001b[38;5;33mFlatten\u001b[0m)                    │ (\u001b[38;5;45mNone\u001b[0m, \u001b[38;5;34m15680\u001b[0m)               │               \u001b[38;5;34m0\u001b[0m │\n",
              "├──────────────────────────────────────┼─────────────────────────────┼─────────────────┤\n",
              "│ dense_2 (\u001b[38;5;33mDense\u001b[0m)                      │ (\u001b[38;5;45mNone\u001b[0m, \u001b[38;5;34m10\u001b[0m)                  │         \u001b[38;5;34m156,810\u001b[0m │\n",
              "└──────────────────────────────────────┴─────────────────────────────┴─────────────────┘\n"
            ],
            "text/html": [
              "<pre style=\"white-space:pre;overflow-x:auto;line-height:normal;font-family:Menlo,'DejaVu Sans Mono',consolas,'Courier New',monospace\">┏━━━━━━━━━━━━━━━━━━━━━━━━━━━━━━━━━━━━━━┳━━━━━━━━━━━━━━━━━━━━━━━━━━━━━┳━━━━━━━━━━━━━━━━━┓\n",
              "┃<span style=\"font-weight: bold\"> Layer (type)                         </span>┃<span style=\"font-weight: bold\"> Output Shape                </span>┃<span style=\"font-weight: bold\">         Param # </span>┃\n",
              "┡━━━━━━━━━━━━━━━━━━━━━━━━━━━━━━━━━━━━━━╇━━━━━━━━━━━━━━━━━━━━━━━━━━━━━╇━━━━━━━━━━━━━━━━━┩\n",
              "│ dense (<span style=\"color: #0087ff; text-decoration-color: #0087ff\">Dense</span>)                        │ (<span style=\"color: #00d7ff; text-decoration-color: #00d7ff\">None</span>, <span style=\"color: #00af00; text-decoration-color: #00af00\">28</span>, <span style=\"color: #00af00; text-decoration-color: #00af00\">28</span>, <span style=\"color: #00af00; text-decoration-color: #00af00\">14</span>)          │              <span style=\"color: #00af00; text-decoration-color: #00af00\">28</span> │\n",
              "├──────────────────────────────────────┼─────────────────────────────┼─────────────────┤\n",
              "│ dense_1 (<span style=\"color: #0087ff; text-decoration-color: #0087ff\">Dense</span>)                      │ (<span style=\"color: #00d7ff; text-decoration-color: #00d7ff\">None</span>, <span style=\"color: #00af00; text-decoration-color: #00af00\">28</span>, <span style=\"color: #00af00; text-decoration-color: #00af00\">28</span>, <span style=\"color: #00af00; text-decoration-color: #00af00\">20</span>)          │             <span style=\"color: #00af00; text-decoration-color: #00af00\">300</span> │\n",
              "├──────────────────────────────────────┼─────────────────────────────┼─────────────────┤\n",
              "│ flatten (<span style=\"color: #0087ff; text-decoration-color: #0087ff\">Flatten</span>)                    │ (<span style=\"color: #00d7ff; text-decoration-color: #00d7ff\">None</span>, <span style=\"color: #00af00; text-decoration-color: #00af00\">15680</span>)               │               <span style=\"color: #00af00; text-decoration-color: #00af00\">0</span> │\n",
              "├──────────────────────────────────────┼─────────────────────────────┼─────────────────┤\n",
              "│ dense_2 (<span style=\"color: #0087ff; text-decoration-color: #0087ff\">Dense</span>)                      │ (<span style=\"color: #00d7ff; text-decoration-color: #00d7ff\">None</span>, <span style=\"color: #00af00; text-decoration-color: #00af00\">10</span>)                  │         <span style=\"color: #00af00; text-decoration-color: #00af00\">156,810</span> │\n",
              "└──────────────────────────────────────┴─────────────────────────────┴─────────────────┘\n",
              "</pre>\n"
            ]
          },
          "metadata": {}
        },
        {
          "output_type": "display_data",
          "data": {
            "text/plain": [
              "\u001b[1m Total params: \u001b[0m\u001b[38;5;34m157,138\u001b[0m (613.82 KB)\n"
            ],
            "text/html": [
              "<pre style=\"white-space:pre;overflow-x:auto;line-height:normal;font-family:Menlo,'DejaVu Sans Mono',consolas,'Courier New',monospace\"><span style=\"font-weight: bold\"> Total params: </span><span style=\"color: #00af00; text-decoration-color: #00af00\">157,138</span> (613.82 KB)\n",
              "</pre>\n"
            ]
          },
          "metadata": {}
        },
        {
          "output_type": "display_data",
          "data": {
            "text/plain": [
              "\u001b[1m Trainable params: \u001b[0m\u001b[38;5;34m157,138\u001b[0m (613.82 KB)\n"
            ],
            "text/html": [
              "<pre style=\"white-space:pre;overflow-x:auto;line-height:normal;font-family:Menlo,'DejaVu Sans Mono',consolas,'Courier New',monospace\"><span style=\"font-weight: bold\"> Trainable params: </span><span style=\"color: #00af00; text-decoration-color: #00af00\">157,138</span> (613.82 KB)\n",
              "</pre>\n"
            ]
          },
          "metadata": {}
        },
        {
          "output_type": "display_data",
          "data": {
            "text/plain": [
              "\u001b[1m Non-trainable params: \u001b[0m\u001b[38;5;34m0\u001b[0m (0.00 B)\n"
            ],
            "text/html": [
              "<pre style=\"white-space:pre;overflow-x:auto;line-height:normal;font-family:Menlo,'DejaVu Sans Mono',consolas,'Courier New',monospace\"><span style=\"font-weight: bold\"> Non-trainable params: </span><span style=\"color: #00af00; text-decoration-color: #00af00\">0</span> (0.00 B)\n",
              "</pre>\n"
            ]
          },
          "metadata": {}
        }
      ],
      "source": [
        "model.summary()"
      ]
    },
    {
      "cell_type": "markdown",
      "source": [
        "###6. Train the Model"
      ],
      "metadata": {
        "id": "1WTzEPpKzpuv"
      },
      "id": "1WTzEPpKzpuv"
    },
    {
      "cell_type": "code",
      "execution_count": 13,
      "id": "af712260-b9e5-4d9f-b7ea-b583940e05ab",
      "metadata": {
        "colab": {
          "base_uri": "https://localhost:8080/"
        },
        "id": "af712260-b9e5-4d9f-b7ea-b583940e05ab",
        "outputId": "810f5d10-616c-493e-b18e-1c427ed0a704"
      },
      "outputs": [
        {
          "output_type": "stream",
          "name": "stdout",
          "text": [
            "Epoch 1/5\n",
            "\u001b[1m1313/1313\u001b[0m \u001b[32m━━━━━━━━━━━━━━━━━━━━\u001b[0m\u001b[37m\u001b[0m \u001b[1m26s\u001b[0m 19ms/step - accuracy: 0.8117 - loss: 0.7112 - val_accuracy: 0.9191 - val_loss: 0.2871\n",
            "Epoch 2/5\n",
            "\u001b[1m1313/1313\u001b[0m \u001b[32m━━━━━━━━━━━━━━━━━━━━\u001b[0m\u001b[37m\u001b[0m \u001b[1m40s\u001b[0m 19ms/step - accuracy: 0.9205 - loss: 0.2777 - val_accuracy: 0.9159 - val_loss: 0.2953\n",
            "Epoch 3/5\n",
            "\u001b[1m1313/1313\u001b[0m \u001b[32m━━━━━━━━━━━━━━━━━━━━\u001b[0m\u001b[37m\u001b[0m \u001b[1m22s\u001b[0m 17ms/step - accuracy: 0.9273 - loss: 0.2599 - val_accuracy: 0.9198 - val_loss: 0.2835\n",
            "Epoch 4/5\n",
            "\u001b[1m1313/1313\u001b[0m \u001b[32m━━━━━━━━━━━━━━━━━━━━\u001b[0m\u001b[37m\u001b[0m \u001b[1m43s\u001b[0m 19ms/step - accuracy: 0.9309 - loss: 0.2371 - val_accuracy: 0.9211 - val_loss: 0.2774\n",
            "Epoch 5/5\n",
            "\u001b[1m1313/1313\u001b[0m \u001b[32m━━━━━━━━━━━━━━━━━━━━\u001b[0m\u001b[37m\u001b[0m \u001b[1m22s\u001b[0m 17ms/step - accuracy: 0.9341 - loss: 0.2287 - val_accuracy: 0.9272 - val_loss: 0.2574\n"
          ]
        },
        {
          "output_type": "execute_result",
          "data": {
            "text/plain": [
              "<keras.src.callbacks.history.History at 0x7a76585ca9e0>"
            ]
          },
          "metadata": {},
          "execution_count": 13
        }
      ],
      "source": [
        "model.fit(x_trainr, y_trainr, epochs=5, validation_split=0.3) # Training my model"
      ]
    },
    {
      "cell_type": "markdown",
      "source": [
        "###validation accuracy ~= accuracy this is how it should be\n",
        "### if validation accuracy < accuracy this is overfitting => solution to overfitting is dropout layer"
      ],
      "metadata": {
        "id": "q_cIlkyw0e0d"
      },
      "id": "q_cIlkyw0e0d"
    },
    {
      "cell_type": "markdown",
      "source": [
        "###7. Evaluate the Model"
      ],
      "metadata": {
        "id": "X_kCZefI0nZj"
      },
      "id": "X_kCZefI0nZj"
    },
    {
      "cell_type": "code",
      "execution_count": 14,
      "id": "935f5b82-7482-4550-9315-d3bbffce4e3a",
      "metadata": {
        "colab": {
          "base_uri": "https://localhost:8080/"
        },
        "id": "935f5b82-7482-4550-9315-d3bbffce4e3a",
        "outputId": "b5a0da94-8fae-433f-b955-c3f5e7019d20"
      },
      "outputs": [
        {
          "output_type": "stream",
          "name": "stdout",
          "text": [
            "\u001b[1m313/313\u001b[0m \u001b[32m━━━━━━━━━━━━━━━━━━━━\u001b[0m\u001b[37m\u001b[0m \u001b[1m2s\u001b[0m 6ms/step - accuracy: 0.9250 - loss: 0.2788\n"
          ]
        }
      ],
      "source": [
        "# Evaluateing on testing data on Mnist\n",
        "test_loss, test_acc= model.evaluate(x_testr,y_testr)"
      ]
    },
    {
      "cell_type": "code",
      "execution_count": 15,
      "id": "725826c7-8222-425e-93ee-bf9e2cd0bd7f",
      "metadata": {
        "colab": {
          "base_uri": "https://localhost:8080/"
        },
        "id": "725826c7-8222-425e-93ee-bf9e2cd0bd7f",
        "outputId": "70d6aab8-0a52-40d3-bd89-a222d2de8737"
      },
      "outputs": [
        {
          "output_type": "stream",
          "name": "stdout",
          "text": [
            "Test Loss on 10000 test samples 0.2500620186328888\n",
            "Validation Accuracy on 10000 test samples 0.9325000047683716\n"
          ]
        }
      ],
      "source": [
        "print(\"Test Loss on 10000 test samples\",test_loss)\n",
        "print(\"Validation Accuracy on 10000 test samples\", test_acc)"
      ]
    },
    {
      "cell_type": "markdown",
      "source": [
        "###8. Make Predictions"
      ],
      "metadata": {
        "id": "YfwsBPwv05oy"
      },
      "id": "YfwsBPwv05oy"
    },
    {
      "cell_type": "code",
      "execution_count": 16,
      "id": "c035d26b-33c3-4b2f-ac2c-b58f01549a7c",
      "metadata": {
        "colab": {
          "base_uri": "https://localhost:8080/"
        },
        "id": "c035d26b-33c3-4b2f-ac2c-b58f01549a7c",
        "outputId": "488db73d-88e3-4787-cc56-f6f7b32dbf90"
      },
      "outputs": [
        {
          "output_type": "stream",
          "name": "stdout",
          "text": [
            "\u001b[1m313/313\u001b[0m \u001b[32m━━━━━━━━━━━━━━━━━━━━\u001b[0m\u001b[37m\u001b[0m \u001b[1m4s\u001b[0m 12ms/step\n"
          ]
        }
      ],
      "source": [
        "preedictions=model.predict([x_testr])"
      ]
    },
    {
      "cell_type": "code",
      "execution_count": 17,
      "id": "ac41fb66-a85c-4bcf-a0a6-e6de06d6bbc2",
      "metadata": {
        "colab": {
          "base_uri": "https://localhost:8080/"
        },
        "id": "ac41fb66-a85c-4bcf-a0a6-e6de06d6bbc2",
        "outputId": "5d65691b-2eac-4a8a-9ec2-791976ebff6a"
      },
      "outputs": [
        {
          "output_type": "stream",
          "name": "stdout",
          "text": [
            "[[1.80097448e-08 3.30099229e-13 1.32162563e-06 ... 9.98466432e-01\n",
            "  2.63551456e-08 3.91626018e-05]\n",
            " [5.47534546e-06 1.32868245e-05 9.98447835e-01 ... 5.75011294e-18\n",
            "  2.71377885e-05 8.37762273e-14]\n",
            " [2.42989415e-07 9.97764766e-01 1.38088921e-03 ... 4.94357892e-06\n",
            "  1.82628690e-04 6.45157934e-06]\n",
            " ...\n",
            " [2.96095219e-08 1.41489477e-06 7.05673210e-06 ... 9.63086844e-04\n",
            "  4.09014942e-03 1.13129532e-02]\n",
            " [2.49003301e-06 1.33522315e-06 1.04314654e-06 ... 2.92806953e-06\n",
            "  3.56357172e-02 6.83322639e-07]\n",
            " [1.10750851e-04 1.04444488e-10 9.31374438e-04 ... 1.12847877e-10\n",
            "  7.51409289e-07 2.66002309e-09]]\n"
          ]
        }
      ],
      "source": [
        "print(preedictions)"
      ]
    },
    {
      "cell_type": "code",
      "execution_count": 18,
      "id": "6813c766-c57d-4286-b91e-e0b1b18fe906",
      "metadata": {
        "colab": {
          "base_uri": "https://localhost:8080/"
        },
        "id": "6813c766-c57d-4286-b91e-e0b1b18fe906",
        "outputId": "9277e1fe-5b63-4248-f9ec-5865a6d1542f"
      },
      "outputs": [
        {
          "output_type": "stream",
          "name": "stdout",
          "text": [
            "2\n"
          ]
        }
      ],
      "source": [
        "# in order to undertstand , convert the predictions from one hot encoding, we need to use numpy for that\n",
        "rn = np.random.randint(0, 10000)\n",
        "print(np.argmax(preedictions[rn])) #so actually argmax will find the maximim value index and find the value of it"
      ]
    },
    {
      "cell_type": "code",
      "execution_count": 19,
      "id": "1f0c071e-29d3-4ad3-8f26-6f8c884148ea",
      "metadata": {
        "colab": {
          "base_uri": "https://localhost:8080/",
          "height": 448
        },
        "id": "1f0c071e-29d3-4ad3-8f26-6f8c884148ea",
        "outputId": "cbf21e73-aafc-4d0e-f7bd-5a70a9b29f58"
      },
      "outputs": [
        {
          "output_type": "execute_result",
          "data": {
            "text/plain": [
              "<matplotlib.image.AxesImage at 0x7a7654fe21a0>"
            ]
          },
          "metadata": {},
          "execution_count": 19
        },
        {
          "output_type": "display_data",
          "data": {
            "text/plain": [
              "<Figure size 640x480 with 1 Axes>"
            ],
            "image/png": "[encoded data removed]"
          },
          "metadata": {}
        }
      ],
      "source": [
        "#now to check that is our answer is true or not\n",
        "plt.imshow(x_test[rn])"
      ]
    }
  ],
  "metadata": {
    "kernelspec": {
      "display_name": "Python 3 (ipykernel)",
      "language": "python",
      "name": "python3"
    },
    "language_info": {
      "codemirror_mode": {
        "name": "ipython",
        "version": 3
      },
      "file_extension": ".py",
      "mimetype": "text/x-python",
      "name": "python",
      "nbconvert_exporter": "python",
      "pygments_lexer": "ipython3",
      "version": "3.11.9"
    },
    "colab": {
      "provenance": []
    }
  },
  "nbformat": 4,
  "nbformat_minor": 5
}